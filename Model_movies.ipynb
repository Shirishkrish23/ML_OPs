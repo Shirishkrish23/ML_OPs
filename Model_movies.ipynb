{
 "cells": [
  {
   "cell_type": "code",
   "execution_count": null,
   "metadata": {},
   "outputs": [],
   "source": [
    "# Import necessary libraries\n",
    "import pickle\n",
    "import pandas as pd\n",
    "from sklearn.preprocessing import LabelEncoder, MinMaxScaler\n",
    "from sklearn.model_selection import train_test_split, GridSearchCV\n",
    "from sklearn.ensemble import RandomForestRegressor\n",
    "from sklearn.metrics import mean_squared_error\n",
    "import numpy as np\n",
    "\n",
    "# Load the ratings data (assuming 'u.data' is available in the current directory)\n",
    "ratings = pd.read_csv('u.data', sep='\\t', names=['user_id', 'item_id', 'rating', 'timestamp'])\n",
    "\n",
    "# Load the movies data (assuming 'u.item' is available in the current directory)\n",
    "item_cols = ['item_id', 'movie_title', 'release_date', 'video_release_date', 'IMDb_URL', 'unknown',\n",
    "             'Action', 'Adventure', 'Animation', \"Children's\", 'Comedy', 'Crime', 'Documentary', 'Drama',\n",
    "             'Fantasy', 'Film-Noir', 'Horror', 'Musical', 'Mystery', 'Romance', 'Sci-Fi', 'Thriller',\n",
    "             'War', 'Western']\n",
    "movies = pd.read_csv('u.item', sep='|', names=item_cols, encoding='ISO-8859-1')\n",
    "\n",
    "# Merge the datasets on 'item_id'\n",
    "data = pd.merge(ratings, movies[['item_id', 'movie_title'] + item_cols[5:]], on='item_id')\n",
    "\n",
    "# Check for missing values\n",
    "if data.isnull().sum().any():\n",
    "    print(\"Warning: Missing values detected and will be filled.\")\n",
    "    data = data.fillna(0)\n",
    "\n",
    "# Encode 'movie_title' using LabelEncoder\n",
    "le_title = LabelEncoder()\n",
    "data['movie_title_encoded'] = le_title.fit_transform(data['movie_title'])\n",
    "\n",
    "# Save the LabelEncoder\n",
    "with open('title_encoder.pkl', 'wb') as file:\n",
    "    pickle.dump(le_title, file)\n",
    "    \n",
    "# Normalize 'user_id' and 'movie_title_encoded' to improve RandomForest performance\n",
    "scaler = MinMaxScaler()\n",
    "data[['user_id', 'movie_title_encoded']] = scaler.fit_transform(data[['user_id', 'movie_title_encoded']])\n",
    "\n",
    "# Define features and target variable\n",
    "features = ['user_id', 'movie_title_encoded'] + item_cols[5:]\n",
    "target = 'rating'\n",
    "\n"
   ]
  },
  {
   "cell_type": "code",
   "execution_count": 15,
   "metadata": {},
   "outputs": [
    {
     "name": "stdout",
     "output_type": "stream",
     "text": [
      "Best RMSE: 1.0254300123337268\n",
      "Best Parameters: {'max_depth': 20, 'min_samples_split': 10, 'n_estimators': 200}\n"
     ]
    }
   ],
   "source": [
    "# Split the data into training and testing sets\n",
    "X_train, X_test, y_train, y_test = train_test_split(\n",
    "    data[features], data[target], test_size=0.2, random_state=42\n",
    ")\n",
    "\n",
    "# Initialize and optimize a RandomForestRegressor with GridSearchCV for better hyperparameters\n",
    "param_grid = {\n",
    "    'n_estimators': [100, 200, 300],\n",
    "    'max_depth': [10, 20, None],\n",
    "    'min_samples_split': [2, 5, 10]\n",
    "}\n",
    "model = GridSearchCV(RandomForestRegressor(random_state=42), param_grid, cv=3)\n",
    "model.fit(X_train, y_train)\n",
    "\n",
    "# Evaluate the model\n",
    "best_model = model.best_estimator_\n",
    "y_pred = best_model.predict(X_test)\n",
    "rmse = np.sqrt(mean_squared_error(y_test, y_pred))\n",
    "print('Best RMSE:', rmse)\n",
    "print('Best Parameters:', model.best_params_)"
   ]
  },
  {
   "cell_type": "code",
   "execution_count": null,
   "metadata": {},
   "outputs": [
    {
     "name": "stdout",
     "output_type": "stream",
     "text": [
      "RMSE of loaded model: 1.0254300123337268\n"
     ]
    },
    {
     "ename": "",
     "evalue": "",
     "output_type": "error",
     "traceback": [
      "\u001b[1;31mThe Kernel crashed while executing code in the current cell or a previous cell. \n",
      "\u001b[1;31mPlease review the code in the cell(s) to identify a possible cause of the failure. \n",
      "\u001b[1;31mClick <a href='https://aka.ms/vscodeJupyterKernelCrash'>here</a> for more info. \n",
      "\u001b[1;31mView Jupyter <a href='command:jupyter.viewOutput'>log</a> for further details."
     ]
    }
   ],
   "source": [
    "# Save the trained model for future use\n",
    "with open('optimized_movie_rating_model.pkl', 'wb') as file:\n",
    "    pickle.dump(best_model, file)\n",
    "\n",
    "# Load the model (for demonstration)\n",
    "with open('optimized_movie_rating_model.pkl', 'rb') as file:\n",
    "    loaded_model = pickle.load(file)\n",
    "y_pred_loaded = loaded_model.predict(X_test)\n",
    "rmse_loaded = np.sqrt(mean_squared_error(y_test, y_pred_loaded))\n",
    "print('RMSE of loaded model:', rmse_loaded)"
   ]
  }
 ],
 "metadata": {
  "kernelspec": {
   "display_name": "Python 3",
   "language": "python",
   "name": "python3"
  },
  "language_info": {
   "codemirror_mode": {
    "name": "ipython",
    "version": 3
   },
   "file_extension": ".py",
   "mimetype": "text/x-python",
   "name": "python",
   "nbconvert_exporter": "python",
   "pygments_lexer": "ipython3",
   "version": "3.12.6"
  }
 },
 "nbformat": 4,
 "nbformat_minor": 2
}
